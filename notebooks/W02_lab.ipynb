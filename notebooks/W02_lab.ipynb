{
  "cells": [
    {
      "cell_type": "markdown",
      "metadata": {
        "id": "5aHgMwXfqyBz"
      },
      "source": [
        "# Week 2 Lab\n",
        "\n",
        "**Datasets**:\n",
        "\n",
        "The following datasets are used in this lab.\n",
        "\n",
        "- [nyc_subway_stations.tsv](https://open.gishub.org/data/duckdb/nyc_subway_stations.tsv)\n",
        "- [nyc_neighborhoods.tsv](https://open.gishub.org/data/duckdb/nyc_neighborhoods.tsv)"
      ],
      "id": "5aHgMwXfqyBz"
    },
    {
      "cell_type": "code",
      "execution_count": 12,
      "metadata": {
        "id": "kFoec0UiqyB3",
        "outputId": "5224a3ad-e641-4f7e-9ab5-9c8eb8bea6a8",
        "colab": {
          "base_uri": "https://localhost:8080/"
        }
      },
      "outputs": [
        {
          "output_type": "stream",
          "name": "stdout",
          "text": [
            "Requirement already satisfied: duckdb in /usr/local/lib/python3.11/dist-packages (1.1.3)\n",
            "Requirement already satisfied: duckdb-engine in /usr/local/lib/python3.11/dist-packages (0.15.0)\n",
            "Requirement already satisfied: jupysql in /usr/local/lib/python3.11/dist-packages (0.10.17)\n",
            "Requirement already satisfied: packaging>=21 in /usr/local/lib/python3.11/dist-packages (from duckdb-engine) (24.2)\n",
            "Requirement already satisfied: sqlalchemy>=1.3.22 in /usr/local/lib/python3.11/dist-packages (from duckdb-engine) (2.0.37)\n",
            "Requirement already satisfied: prettytable>=3.12.0 in /usr/local/lib/python3.11/dist-packages (from jupysql) (3.12.0)\n",
            "Requirement already satisfied: sqlparse in /usr/local/lib/python3.11/dist-packages (from jupysql) (0.5.3)\n",
            "Requirement already satisfied: ipython-genutils>=0.1.0 in /usr/local/lib/python3.11/dist-packages (from jupysql) (0.2.0)\n",
            "Requirement already satisfied: jinja2 in /usr/local/lib/python3.11/dist-packages (from jupysql) (3.1.5)\n",
            "Requirement already satisfied: sqlglot>=11.3.7 in /usr/local/lib/python3.11/dist-packages (from jupysql) (25.1.0)\n",
            "Requirement already satisfied: jupysql-plugin>=0.4.2 in /usr/local/lib/python3.11/dist-packages (from jupysql) (0.4.5)\n",
            "Requirement already satisfied: ploomber-core>=0.2.7 in /usr/local/lib/python3.11/dist-packages (from jupysql) (0.2.26)\n",
            "Requirement already satisfied: pyyaml in /usr/local/lib/python3.11/dist-packages (from ploomber-core>=0.2.7->jupysql) (6.0.2)\n",
            "Requirement already satisfied: posthog in /usr/local/lib/python3.11/dist-packages (from ploomber-core>=0.2.7->jupysql) (3.9.0)\n",
            "Requirement already satisfied: wcwidth in /usr/local/lib/python3.11/dist-packages (from prettytable>=3.12.0->jupysql) (0.2.13)\n",
            "Requirement already satisfied: greenlet!=0.4.17 in /usr/local/lib/python3.11/dist-packages (from sqlalchemy>=1.3.22->duckdb-engine) (3.1.1)\n",
            "Requirement already satisfied: typing-extensions>=4.6.0 in /usr/local/lib/python3.11/dist-packages (from sqlalchemy>=1.3.22->duckdb-engine) (4.12.2)\n",
            "Requirement already satisfied: MarkupSafe>=2.0 in /usr/local/lib/python3.11/dist-packages (from jinja2->jupysql) (3.0.2)\n",
            "Requirement already satisfied: requests<3.0,>=2.7 in /usr/local/lib/python3.11/dist-packages (from posthog->ploomber-core>=0.2.7->jupysql) (2.32.3)\n",
            "Requirement already satisfied: six>=1.5 in /usr/local/lib/python3.11/dist-packages (from posthog->ploomber-core>=0.2.7->jupysql) (1.17.0)\n",
            "Requirement already satisfied: monotonic>=1.5 in /usr/local/lib/python3.11/dist-packages (from posthog->ploomber-core>=0.2.7->jupysql) (1.6)\n",
            "Requirement already satisfied: backoff>=1.10.0 in /usr/local/lib/python3.11/dist-packages (from posthog->ploomber-core>=0.2.7->jupysql) (2.2.1)\n",
            "Requirement already satisfied: python-dateutil>2.1 in /usr/local/lib/python3.11/dist-packages (from posthog->ploomber-core>=0.2.7->jupysql) (2.8.2)\n",
            "Requirement already satisfied: charset-normalizer<4,>=2 in /usr/local/lib/python3.11/dist-packages (from requests<3.0,>=2.7->posthog->ploomber-core>=0.2.7->jupysql) (3.4.1)\n",
            "Requirement already satisfied: idna<4,>=2.5 in /usr/local/lib/python3.11/dist-packages (from requests<3.0,>=2.7->posthog->ploomber-core>=0.2.7->jupysql) (3.10)\n",
            "Requirement already satisfied: urllib3<3,>=1.21.1 in /usr/local/lib/python3.11/dist-packages (from requests<3.0,>=2.7->posthog->ploomber-core>=0.2.7->jupysql) (2.3.0)\n",
            "Requirement already satisfied: certifi>=2017.4.17 in /usr/local/lib/python3.11/dist-packages (from requests<3.0,>=2.7->posthog->ploomber-core>=0.2.7->jupysql) (2024.12.14)\n"
          ]
        }
      ],
      "source": [
        " %pip install duckdb duckdb-engine jupysql"
      ],
      "id": "kFoec0UiqyB3"
    },
    {
      "cell_type": "code",
      "execution_count": 24,
      "metadata": {
        "id": "Sn18sOr9qyB5",
        "outputId": "9a1941e5-75f2-41ff-fe4d-11bd601124e0",
        "colab": {
          "base_uri": "https://localhost:8080/",
          "height": 108
        }
      },
      "outputs": [
        {
          "output_type": "error",
          "ename": "SyntaxError",
          "evalue": "invalid syntax (<ipython-input-24-07b494623fb4>, line 8)",
          "traceback": [
            "\u001b[0;36m  File \u001b[0;32m\"<ipython-input-24-07b494623fb4>\"\u001b[0;36m, line \u001b[0;32m8\u001b[0m\n\u001b[0;31m    INSTALL httpfs;\u001b[0m\n\u001b[0m            ^\u001b[0m\n\u001b[0;31mSyntaxError\u001b[0m\u001b[0;31m:\u001b[0m invalid syntax\n"
          ]
        }
      ],
      "source": [
        "import duckdb\n",
        "import pandas as pd\n",
        "\n",
        "%reload_ext sql"
      ],
      "id": "Sn18sOr9qyB5"
    },
    {
      "cell_type": "code",
      "execution_count": 26,
      "metadata": {
        "id": "WkT-gymDqyB6",
        "outputId": "29074c57-3f0d-4cd8-ba2c-c81312af5baf",
        "colab": {
          "base_uri": "https://localhost:8080/",
          "height": 108
        }
      },
      "outputs": [
        {
          "output_type": "error",
          "ename": "SyntaxError",
          "evalue": "invalid syntax (<ipython-input-26-a1b5aaf2339f>, line 6)",
          "traceback": [
            "\u001b[0;36m  File \u001b[0;32m\"<ipython-input-26-a1b5aaf2339f>\"\u001b[0;36m, line \u001b[0;32m6\u001b[0m\n\u001b[0;31m    INSTALL httpfs;\u001b[0m\n\u001b[0m            ^\u001b[0m\n\u001b[0;31mSyntaxError\u001b[0m\u001b[0;31m:\u001b[0m invalid syntax\n"
          ]
        }
      ],
      "source": [
        "%config SqlMagic.autopandas = True\n",
        "%config SqlMagic.feedback = False\n",
        "%config SqlMagic.displaycon = False\n",
        "\n",
        "%sql duckdb:///:memory:"
      ],
      "id": "WkT-gymDqyB6"
    },
    {
      "cell_type": "code",
      "source": [
        "%%sql\n",
        "INSTALL httpfs;\n",
        "LOAD httpfs;"
      ],
      "metadata": {
        "id": "Tq_WDTPlQTDC",
        "outputId": "0c5992f8-d704-45a5-a6c4-d1b339fb2fb4",
        "colab": {
          "base_uri": "https://localhost:8080/"
        }
      },
      "id": "Tq_WDTPlQTDC",
      "execution_count": 29,
      "outputs": [
        {
          "output_type": "stream",
          "name": "stderr",
          "text": [
            "RuntimeError: If using snippets, you may pass the --with argument explicitly.\n",
            "For more details please refer: https://jupysql.ploomber.io/en/latest/compose.html#with-argument\n",
            "\n",
            "\n",
            "Original error message from DB driver:\n",
            "(duckdb.duckdb.ParserException) Parser Error: syntax error at or near \"%%\"\n",
            "[SQL: %%sql\n",
            "INSTALL httpfs;]\n",
            "(Background on this error at: https://sqlalche.me/e/20/f405)\n",
            "\n",
            "If you need help solving this issue, send us a message: https://ploomber.io/community\n"
          ]
        }
      ]
    },
    {
      "cell_type": "markdown",
      "metadata": {
        "id": "UsNKKzrRqyB6"
      },
      "source": [
        "## Question 1: Creating Tables\n",
        "\n",
        "Create a database, then write a SQL query to create a table named `nyc_subway_stations` and load the data from the file `nyc_subway_stations.tsv` into it. Similarly, create a table named `nyc_neighborhoods` and load the data from the file `nyc_neighborhoods.tsv` into it."
      ],
      "id": "UsNKKzrRqyB6"
    },
    {
      "cell_type": "code",
      "execution_count": 23,
      "metadata": {
        "id": "A63PTvdOqyB7",
        "outputId": "33b0ca3d-90da-488a-f795-0e53842c96dc",
        "colab": {
          "base_uri": "https://localhost:8080/"
        }
      },
      "outputs": [
        {
          "output_type": "stream",
          "name": "stderr",
          "text": [
            "RuntimeError: (duckdb.duckdb.TransactionException) TransactionContext Error: Current transaction is aborted (please ROLLBACK)\n",
            "[SQL: INSTALL httpfs;]\n",
            "(Background on this error at: https://sqlalche.me/e/20/e3q8)\n",
            "If you need help solving this issue, send us a message: https://ploomber.io/community\n"
          ]
        }
      ],
      "source": [
        "%%sql\n",
        "CREATE TABLE subway AS SELECT * FROM 'https://open.gishub.org/data/duckdb/nyc_subway_stations.tsv'\n",
        "CREATE TABLE neighbourhoods AS SELECT * FROM 'https://open.gishub.org/data/duckdb/nyc_neighborhoods.tsv';"
      ],
      "id": "A63PTvdOqyB7"
    },
    {
      "cell_type": "markdown",
      "metadata": {
        "id": "k5IIXVAVqyB7"
      },
      "source": [
        "## Question 2: Column Filtering\n",
        "\n",
        "Write a SQL query to display the `ID`, `NAME`, and `BOROUGH` of each subway station in the `nyc_subway_stations` dataset."
      ],
      "id": "k5IIXVAVqyB7"
    },
    {
      "cell_type": "code",
      "execution_count": null,
      "metadata": {
        "id": "hIzUJM3nqyB8"
      },
      "outputs": [],
      "source": [
        "%%sql\n",
        "SELECT ID, NAME, BOROUGH FROM subway;"
      ],
      "id": "hIzUJM3nqyB8"
    },
    {
      "cell_type": "markdown",
      "metadata": {
        "id": "c92HnYs4qyB8"
      },
      "source": [
        "## Question 3: Row Filtering\n",
        "\n",
        "Write a SQL query to find all subway stations in the `nyc_subway_stations` dataset that are located in the borough of Manhattan."
      ],
      "id": "c92HnYs4qyB8"
    },
    {
      "cell_type": "code",
      "execution_count": null,
      "metadata": {
        "id": "44MfyjfcqyB9"
      },
      "outputs": [],
      "source": [
        "%%sql\n",
        "SELECT * FROM subway WHERE BOROUGH = ‘Manhattan’;"
      ],
      "id": "44MfyjfcqyB9"
    },
    {
      "cell_type": "markdown",
      "metadata": {
        "id": "LZPo1AZ1qyB9"
      },
      "source": [
        "## Question 4: Sorting Results\n",
        "\n",
        "Write a SQL query to list the subway stations in the `nyc_subway_stations` dataset in alphabetical order by their names."
      ],
      "id": "LZPo1AZ1qyB9"
    },
    {
      "cell_type": "code",
      "execution_count": null,
      "metadata": {
        "id": "wowf7dZIqyB9"
      },
      "outputs": [],
      "source": [
        "%%sql\n",
        "SELECT * FROM subway ORDER BY NAME ASC;"
      ],
      "id": "wowf7dZIqyB9"
    },
    {
      "cell_type": "markdown",
      "metadata": {
        "id": "iil47KuOqyB-"
      },
      "source": [
        "## Question 5: Unique Values\n",
        "\n",
        "Write a SQL query to find the distinct boroughs represented in the `nyc_subway_stations` dataset."
      ],
      "id": "iil47KuOqyB-"
    },
    {
      "cell_type": "code",
      "execution_count": null,
      "metadata": {
        "id": "gy2E678eqyB-"
      },
      "outputs": [],
      "source": [
        "%%sql\n",
        "SELECT DISTINCT BOROUGH FROM subway"
      ],
      "id": "gy2E678eqyB-"
    },
    {
      "cell_type": "markdown",
      "metadata": {
        "id": "nZQwE8eYqyB-"
      },
      "source": [
        "## Question 6: Counting Rows\n",
        "\n",
        "Write a SQL query to count the number of subway stations in each borough in the `nyc_subway_stations` dataset."
      ],
      "id": "nZQwE8eYqyB-"
    },
    {
      "cell_type": "code",
      "execution_count": null,
      "metadata": {
        "id": "kCISJHWRqyB-"
      },
      "outputs": [],
      "source": [
        "%%sql\n",
        "SELECT COUNT(NAME), BOROUGH\n",
        "FROM subway\n",
        "GROUP BY BOROUGH"
      ],
      "id": "kCISJHWRqyB-"
    },
    {
      "cell_type": "markdown",
      "metadata": {
        "id": "SSQQhlkCqyB-"
      },
      "source": [
        "## Question 7: Aggregating Data\n",
        "\n",
        "Write a SQL query to list the number of subway stations in each borough, sorted in descending order by the count."
      ],
      "id": "SSQQhlkCqyB-"
    },
    {
      "cell_type": "code",
      "execution_count": null,
      "metadata": {
        "id": "E9OOvRNPqyB_"
      },
      "outputs": [],
      "source": [
        "%%sql\n",
        "SELECT COUNT(NAME), BOROUGH\n",
        "FROM subway\n",
        "GROUP BY BOROUGH\n",
        "OEDER BY BOROUGH DESC"
      ],
      "id": "E9OOvRNPqyB_"
    },
    {
      "cell_type": "markdown",
      "metadata": {
        "id": "xk_OdMPYqyB_"
      },
      "source": [
        "## Question 8: Joining Tables\n",
        "\n",
        "Write a SQL query to join the `nyc_subway_stations` and `nyc_neighborhoods` datasets on the borough name, displaying the subway station name and the neighborhood name."
      ],
      "id": "xk_OdMPYqyB_"
    },
    {
      "cell_type": "code",
      "execution_count": null,
      "metadata": {
        "id": "Q4IovJNRqyB_"
      },
      "outputs": [],
      "source": [
        "%%sql\n",
        "SELECT subway.name, neighbourhoods.name FROM subway\n",
        "INNER JOIN neighbourhoods ON subway.BOROUGH = neighbourhoods.borough"
      ],
      "id": "Q4IovJNRqyB_"
    },
    {
      "cell_type": "markdown",
      "metadata": {
        "id": "XPZV_qizqyB_"
      },
      "source": [
        "## Question 9: String Manipulation\n",
        "\n",
        "Write a SQL query to display the names of subway stations in the `nyc_subway_stations` dataset that contain the word \"St\" in their names."
      ],
      "id": "XPZV_qizqyB_"
    },
    {
      "cell_type": "code",
      "execution_count": null,
      "metadata": {
        "id": "KskeNkHhqyB_"
      },
      "outputs": [],
      "source": [
        "%%sql\n",
        "SELECT * FROM subway WHERE name LIKE '_St_'"
      ],
      "id": "KskeNkHhqyB_"
    },
    {
      "cell_type": "markdown",
      "metadata": {
        "id": "EewSIO48qyB_"
      },
      "source": [
        "## Question 10: Filtering with Multiple Conditions\n",
        "\n",
        "Write a SQL query to find all subway stations in the `nyc_subway_stations` dataset that are in the borough of Brooklyn and have routes that include the letter \"R\"."
      ],
      "id": "EewSIO48qyB_"
    },
    {
      "cell_type": "code",
      "execution_count": null,
      "metadata": {
        "id": "mIOktVF8qyCA"
      },
      "outputs": [],
      "source": [
        "%%sql\n",
        "SELECT * FROM subway\n",
        "WHERE borough in 'Brooklyn'\n",
        "AND routes LIKE '_R_'"
      ],
      "id": "mIOktVF8qyCA"
    },
    {
      "cell_type": "markdown",
      "id": "2a78cbfd",
      "metadata": {
        "id": "2a78cbfd"
      },
      "source": [
        "Once you've completed your attempt, you can check your answers [here](https://github.com/oballinger/CASA0025/blob/main/notebooks/W02_lab_solution.ipynb)."
      ]
    }
  ],
  "metadata": {
    "kernelspec": {
      "display_name": "Python 3",
      "language": "python",
      "name": "python3"
    },
    "language_info": {
      "codemirror_mode": {
        "name": "ipython",
        "version": 3
      },
      "file_extension": ".py",
      "mimetype": "text/x-python",
      "name": "python",
      "nbconvert_exporter": "python",
      "pygments_lexer": "ipython3",
      "version": "3.9.18"
    },
    "colab": {
      "provenance": []
    }
  },
  "nbformat": 4,
  "nbformat_minor": 5
}